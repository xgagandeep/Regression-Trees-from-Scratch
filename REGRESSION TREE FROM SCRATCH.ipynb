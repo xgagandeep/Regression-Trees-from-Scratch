{
 "cells": [
  {
   "cell_type": "code",
   "execution_count": 252,
   "metadata": {},
   "outputs": [],
   "source": [
    "from numpy import *\n",
    "#value of leaf node\n",
    "def regLeaf(dataset):\n",
    "    return mean(dataset[:,-1])\n",
    "#find the error\n",
    "def regErr(dataset):\n",
    "    return var(dataset[:,-1])*dataset.shape[0]\n",
    "#split the dataset for left and right\n",
    "def splitDataset(dataset,feature,value):\n",
    "    mat0 = dataset[dataset[:,feature] < value,:]\n",
    "    mat1 = dataset[dataset[:,feature] >= value,:]\n",
    "    return mat0, mat1\n",
    "#create a tree recursively\n",
    "#i have used a dictionary bt you can follow oop concepts to create this\n",
    "def create_tree(dataset, leafType = regLeaf ,errType = regErr , ops=(1,4)):\n",
    "    #ops = pre pruning parameters as they show better results than post pruning\n",
    "    feature , value = ChooseBestSplit(dataset,regLeaf,regErr,ops)\n",
    "    if feature == None:\n",
    "        return value\n",
    "    tree = {}\n",
    "    tree['feat'] = feature\n",
    "    tree['value'] = value\n",
    "    lset , rset = splitDataset(dataset,feature,value)\n",
    "    tree['left'] = create_tree(lset,leafType,errType,ops)\n",
    "    tree['right'] = create_tree(rset,leafType,errType,ops)\n",
    "    return tree\n",
    "\n",
    "#finding the best split\n",
    "def ChooseBestSplit(dataset,leafType,errType,ops):\n",
    "    #error limit\n",
    "    tolE = ops[0]\n",
    "    #min no of points on one side\n",
    "    tolN = ops[1]\n",
    "    if len(set(dataset[:,-1])) == 1:\n",
    "        return None, leafType(dataset)\n",
    "    m,n = dataset.shape\n",
    "    S = errType(dataset)\n",
    "    bestS = inf\n",
    "    bestIndex = 0 \n",
    "    bestValue = 0\n",
    "    for featindex in range(n-1):\n",
    "        for splitValue in range(m-1):\n",
    "            mat0 , mat1 = splitDataset(dataset,featindex,splitValue)\n",
    "            if mat0.shape[0]< tolN or mat1.shape[0]< tolN:\n",
    "                continue\n",
    "            newS = errType(mat0) + errType(mat1)\n",
    "            if newS < bestS:\n",
    "                bestIndex = featindex\n",
    "                bestValue = splitValue\n",
    "                bestS = newS\n",
    "    if S - bestS < tolE:\n",
    "        return None,leafType(dataset)\n",
    "    mat0, mat1 = splitDataset(dataset,bestIndex,bestValue)\n",
    "    if mat0.shape[0]< tolN or mat1.shape[0]< tolN:\n",
    "        return None,LeafType(dataset)\n",
    "    return bestIndex,bestValue\n",
    "    \n",
    "                "
   ]
  },
  {
   "cell_type": "code",
   "execution_count": null,
   "metadata": {},
   "outputs": [],
   "source": []
  },
  {
   "cell_type": "code",
   "execution_count": null,
   "metadata": {},
   "outputs": [],
   "source": []
  },
  {
   "cell_type": "code",
   "execution_count": 253,
   "metadata": {},
   "outputs": [
    {
     "data": {
      "text/plain": [
       "<matplotlib.collections.PathCollection at 0x1e7eb0200f0>"
      ]
     },
     "execution_count": 253,
     "metadata": {},
     "output_type": "execute_result"
    },
    {
     "data": {
      "image/png": "[encoded data removed]",
      "text/plain": [
       "<Figure size 432x288 with 1 Axes>"
      ]
     },
     "metadata": {
      "needs_background": "light"
     },
     "output_type": "display_data"
    }
   ],
   "source": [
    "import matplotlib.pyplot as plt\n",
    "%matplotlib inline\n",
    "plt.scatter(mattrain[:,0],mattrain[:,1])"
   ]
  },
  {
   "cell_type": "code",
   "execution_count": 254,
   "metadata": {},
   "outputs": [],
   "source": [
    "x = create_tree(mattrain)"
   ]
  },
  {
   "cell_type": "code",
   "execution_count": 255,
   "metadata": {},
   "outputs": [
    {
     "data": {
      "text/plain": [
       "{'feat': 0,\n",
       " 'value': 11,\n",
       " 'left': {'feat': 0, 'value': 6, 'left': 2.2, 'right': 3.4},\n",
       " 'right': 12.4}"
      ]
     },
     "execution_count": 255,
     "metadata": {},
     "output_type": "execute_result"
    }
   ],
   "source": [
    "x"
   ]
  },
  {
   "cell_type": "code",
   "execution_count": 256,
   "metadata": {},
   "outputs": [],
   "source": [
    "def isTree(obj):\n",
    "     return (type(obj).__name__=='dict')\n",
    "def getMean(tree):\n",
    "    if isTree(tree['right']):\n",
    "            tree['right'] = getMean(tree['right'])\n",
    "    if isTree(tree['left']):\n",
    "        tree['left'] = getMean(tree['left'])\n",
    "        return (tree['left']+tree['right'])/2.0\n",
    "#post pruning function\n",
    "def prune(tree, testData):\n",
    "    if shape(testData)[0] == 0: \n",
    "        return getMean(tree)\n",
    "    if (isTree(tree['right']) or isTree(tree['left'])):\n",
    "         lSet, rSet = binSplitDataSet(testData, tree['feat'],tree['value'])\n",
    "    if isTree(tree['left']):\n",
    "        tree['left'] = prune(tree['left'], lSet)\n",
    "    if isTree(tree['right']): \n",
    "        tree['right'] = prune(tree['right'], rSet)\n",
    "    if not isTree(tree['left']) and not isTree(tree['right']):\n",
    "        lSet, rSet = binSplitDataSet(testData, tree['feat'],tree['value'])\n",
    "        errorNoMerge = sum(power(lSet[:,-1] - tree['left'],2)) +sum(power(rSet[:,-1] - tree['right'],2))\n",
    "        treeMean = (tree['left']+tree['right'])/2.0\n",
    "        errorMerge = sum(power(testData[:,-1] - treeMean,2))\n",
    "        if errorMerge < errorNoMerge:\n",
    "            print(\"merging\")\n",
    "            return treeMean\n",
    "        else: return tree\n",
    "    else: return tree"
   ]
  },
  {
   "cell_type": "code",
   "execution_count": 257,
   "metadata": {},
   "outputs": [],
   "source": [
    "# FOR FUTURE PURPOSES\n",
    "# def linearSolve(dataSet):\n",
    "#     m,n = shape(dataSet)\n",
    "#     X = mat(ones((m,n))); Y = mat(ones((m,1)))\n",
    "#     X[:,1:n] = dataSet[:,0:n-1]; Y = dataSet[:,-1]\n",
    "#     xTx = X.T*X\n",
    "#     if linalg.det(xTx) == 0.0:\n",
    "#         raise NameError('This matrix is singular, cannot do inverse,try increasing the second value of ops')\n",
    "#     ws = xTx.I * (X.T * Y)\n",
    "#     return ws,X,Y\n",
    "# def modelLeaf(dataSet):\n",
    "#     ws,X,Y = linearSolve(dataSet)\n",
    "#     return ws\n",
    "# def modelErr(dataSet):\n",
    "#     ws,X,Y = linearSolve(dataSet)\n",
    "#     yHat = X * ws\n",
    "#     return sum(power(Y - yHat, 2))"
   ]
  },
  {
   "cell_type": "code",
   "execution_count": 273,
   "metadata": {},
   "outputs": [],
   "source": [
    "\n",
    "def regTreeEval(model, inDat):\n",
    "    return float(model)\n",
    "# def modelTreeEval(model, inDat):\n",
    "#     n = shape(inDat)[1]\n",
    "#     X = mat(ones((1,n+1)))\n",
    "#     X[:,1:n+1]=inDat\n",
    "#     return float(X*model)\n",
    "def treeForeCast(tree, inData, modelEval=regTreeEval):\n",
    "    if not isTree(tree): return modelEval(tree, inData)\n",
    "    if inData[tree['feat']] < tree['value']:\n",
    "        if isTree(tree['left']):\n",
    "            return treeForeCast(tree['left'], inData , modelEval)\n",
    "        else:\n",
    "            print(inData[tree['feat']], tree['value'])\n",
    "            print(tree['left'],\"left\")\n",
    "            return modelEval(tree['left'], inData)\n",
    "    else:\n",
    "        if isTree(tree['right']):\n",
    "            return treeForeCast(tree['right'], inData , modelEval)\n",
    "        else:\n",
    "            print(inData[tree['feat']], tree['value'])\n",
    "            print(tree['right'],\"right\")\n",
    "            return modelEval(tree['right'], inData)\n",
    "#PREDICTING THE OUTPUT\n",
    "def createForeCast(tree, testData, modelEval=regTreeEval):\n",
    "   \n",
    "    m=len(testData)\n",
    "    yHat = testData\n",
    "    yHat = yHat.astype(float)\n",
    "    print(yHat)\n",
    "    for i in range(m):\n",
    "        \n",
    "        yHat[i] = treeForeCast(tree, mat(testData[i]),modelEval)\n",
    "        \n",
    "    return yHat"
   ]
  },
  {
   "cell_type": "code",
   "execution_count": 274,
   "metadata": {},
   "outputs": [
    {
     "name": "stdout",
     "output_type": "stream",
     "text": [
      "[ 1.  2.  3.  4.  5.  6.  7.  8.  9. 10. 11. 12. 13. 14. 15. 16. 17. 18.\n",
      " 19. 20.]\n",
      "[[1]] 6\n",
      "2.2 left\n",
      "[[2]] 6\n",
      "2.2 left\n",
      "[[3]] 6\n",
      "2.2 left\n",
      "[[4]] 6\n",
      "2.2 left\n",
      "[[5]] 6\n",
      "2.2 left\n",
      "[[6]] 6\n",
      "3.4 right\n",
      "[[7]] 6\n",
      "3.4 right\n",
      "[[8]] 6\n",
      "3.4 right\n",
      "[[9]] 6\n",
      "3.4 right\n",
      "[[10]] 6\n",
      "3.4 right\n",
      "[[11]] 11\n",
      "12.4 right\n",
      "[[12]] 11\n",
      "12.4 right\n",
      "[[13]] 11\n",
      "12.4 right\n",
      "[[14]] 11\n",
      "12.4 right\n",
      "[[15]] 11\n",
      "12.4 right\n",
      "[[16]] 11\n",
      "12.4 right\n",
      "[[17]] 11\n",
      "12.4 right\n",
      "[[18]] 11\n",
      "12.4 right\n",
      "[[19]] 11\n",
      "12.4 right\n",
      "[[20]] 11\n",
      "12.4 right\n",
      "[12.4 12.4 12.4 12.4 12.4 12.4 12.4 12.4 12.4 12.4  3.4  3.4  3.4  3.4\n",
      "  3.4  2.2  2.2  2.2  2.2  2.2]\n",
      "0.9629726340502686\n"
     ]
    }
   ],
   "source": [
    "x_train = [[1,2],[2,2],[3,4],[4,1],[5,2],[6,4],[7,1],[8,3],[9,5],[10,4],\n",
    "    [11,12],[12,10],[13,12],[14,11],[15,12],[16,14],[17,11],[18,13],[19,15],[20,14]]\n",
    "x_test = [[2,2],[3,4],[4,1],[6,4],[8,3],[10,4],\n",
    "    [11,12],[13,12],[15,12],[17,11],[18,13],[20,14]]\n",
    "mattrain = array(x_train)\n",
    "mattest = array(x_test)\n",
    "yHat = createForeCast(x, mattrain[:,0])\n",
    "print(flip(yHat))\n",
    "print(corrcoef(yHat, mattrain[:,1],rowvar=0)[0,1])"
   ]
  },
  {
   "cell_type": "code",
   "execution_count": 215,
   "metadata": {},
   "outputs": [],
   "source": [
    "n = mat(((12,1),(12,2)))"
   ]
  },
  {
   "cell_type": "code",
   "execution_count": 218,
   "metadata": {},
   "outputs": [
    {
     "data": {
      "text/plain": [
       "12"
      ]
     },
     "execution_count": 218,
     "metadata": {},
     "output_type": "execute_result"
    }
   ],
   "source": [
    "n[0,0]"
   ]
  },
  {
   "cell_type": "code",
   "execution_count": 275,
   "metadata": {},
   "outputs": [
    {
     "data": {
      "text/plain": [
       "[<matplotlib.lines.Line2D at 0x1e7eb11cc50>]"
      ]
     },
     "execution_count": 275,
     "metadata": {},
     "output_type": "execute_result"
    },
    {
     "data": {
      "image/png": "[encoded data removed]",
      "text/plain": [
       "<Figure size 432x288 with 1 Axes>"
      ]
     },
     "metadata": {
      "needs_background": "light"
     },
     "output_type": "display_data"
    }
   ],
   "source": [
    "import matplotlib.pyplot as plt\n",
    "%matplotlib inline\n",
    "plt.scatter(mattrain[:,0],mattrain[:,1])\n",
    "plt.plot(mattrain[:,0],yHat)"
   ]
  },
  {
   "cell_type": "code",
   "execution_count": null,
   "metadata": {},
   "outputs": [],
   "source": []
  },
  {
   "cell_type": "code",
   "execution_count": null,
   "metadata": {},
   "outputs": [],
   "source": []
  },
  {
   "cell_type": "code",
   "execution_count": null,
   "metadata": {},
   "outputs": [],
   "source": []
  }
 ],
 "metadata": {
  "kernelspec": {
   "display_name": "Python 3 (ipykernel)",
   "language": "python",
   "name": "python3"
  },
  "language_info": {
   "codemirror_mode": {
    "name": "ipython",
    "version": 3
   },
   "file_extension": ".py",
   "mimetype": "text/x-python",
   "name": "python",
   "nbconvert_exporter": "python",
   "pygments_lexer": "ipython3",
   "version": "3.7.2"
  }
 },
 "nbformat": 4,
 "nbformat_minor": 2
}
